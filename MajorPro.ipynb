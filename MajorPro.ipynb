{
  "nbformat": 4,
  "nbformat_minor": 0,
  "metadata": {
    "colab": {
      "provenance": [],
      "authorship_tag": "ABX9TyPqlw7HJ3oq7cVDyzTDEDLV",
      "include_colab_link": true
    },
    "kernelspec": {
      "name": "python3",
      "display_name": "Python 3"
    },
    "language_info": {
      "name": "python"
    }
  },
  "cells": [
    {
      "cell_type": "markdown",
      "metadata": {
        "id": "view-in-github",
        "colab_type": "text"
      },
      "source": [
        "<a href=\"https://colab.research.google.com/github/ayinam-alekhya/Detection-Pneumonia-Tuberculosis/blob/main/MajorPro.ipynb\" target=\"_parent\"><img src=\"https://colab.research.google.com/assets/colab-badge.svg\" alt=\"Open In Colab\"/></a>"
      ]
    },
    {
      "cell_type": "code",
      "source": [
        "from google.colab import drive\n",
        "drive.mount('/content/drive/')"
      ],
      "metadata": {
        "id": "seAzzLKRNwlK"
      },
      "execution_count": null,
      "outputs": []
    },
    {
      "cell_type": "code",
      "source": [
        "import os,glob\n",
        "import numpy as np\n",
        "import seaborn as sns\n",
        "import matplotlib.pyplot as plt\n",
        "import pandas as pd\n",
        "import cv2\n",
        "import tensorflow as tf\n",
        "\n",
        "from cv2 import imshow\n",
        "from google.colab.patches import cv2_imshow\n",
        "from sklearn.model_selection import train_test_split\n",
        "from tensorflow.keras.preprocessing.image import ImageDataGenerator\n",
        "from tensorflow.keras.models import Model\n",
        "from tensorflow.keras.layers import Conv2D,MaxPooling2D,Flatten,Dense\n",
        "from tensorflow.keras.callbacks import Callback,EarlyStopping\n",
        "from tensorflow.keras.applications import ResNet50\n",
        "from tensorflow.keras.applications.resnet50 import preprocess_input\n",
        "from sklearn.metrics import classification_report"
      ],
      "metadata": {
        "id": "j_cbu9qhNy5D"
      },
      "execution_count": null,
      "outputs": []
    },
    {
      "cell_type": "code",
      "source": [
        "from imutils import paths\n",
        "b='/content/drive/MyDrive/datasetZ'\n",
        "file_paths=list(paths.list_images(b))\n",
        "print(file_paths)\n",
        "a=cv2.imread('/content/drive/MyDrive/datasetZ/TB/Tuberculosis-1.png')\n",
        "plt.imshow(a)\n",
        "print (len(file_paths))"
      ],
      "metadata": {
        "id": "ymb4xh1DN0t-"
      },
      "execution_count": null,
      "outputs": []
    },
    {
      "cell_type": "code",
      "source": [
        "def get_label(path:str) -> str:\n",
        "  return path.split(\"/\")[-2]\n",
        "\n",
        "labels = list(map(lambda x : get_label(x) , file_paths))\n",
        "print(labels)\n",
        "print(len(labels))"
      ],
      "metadata": {
        "id": "VQI-_R31N3OJ"
      },
      "execution_count": null,
      "outputs": []
    },
    {
      "cell_type": "code",
      "source": [
        "file_path=pd.Series(file_paths,name='Filepath').astype(str)\n",
        "labels=pd.Series(labels,name='Label')\n",
        "data=pd.concat([file_path,labels],axis=1)\n",
        "data=data.sample(frac=1).reset_index(drop=True)\n",
        "data.head(5)"
      ],
      "metadata": {
        "id": "HUHw4R5cN6K-"
      },
      "execution_count": null,
      "outputs": []
    },
    {
      "cell_type": "code",
      "source": [
        "counts=data.Label.value_counts()\n",
        "sns.barplot(x=counts.index,y=counts)\n",
        "plt.xlabel('Type')\n",
        "plt.xticks(rotation=90)"
      ],
      "metadata": {
        "id": "4MFJXNWvN8ox"
      },
      "execution_count": null,
      "outputs": []
    },
    {
      "cell_type": "code",
      "source": [
        "fig,axes=plt.subplots(nrows=5,ncols=3,figsize=(10,8),subplot_kw={'xticks':[],'yticks':[]})\n",
        "for i,ax in enumerate(axes.flat):\n",
        "  ax.imshow(plt.imread(data.Filepath[i]))\n",
        "  ax.set_title(data.Label[i])\n",
        "plt.tight_layout()\n",
        "plt.show()"
      ],
      "metadata": {
        "id": "s0eeBv1YN_MD"
      },
      "execution_count": null,
      "outputs": []
    },
    {
      "cell_type": "code",
      "source": [
        "train,test=train_test_split(data,test_size=0.25,random_state=42)"
      ],
      "metadata": {
        "id": "aohJU0ZuODh8"
      },
      "execution_count": null,
      "outputs": []
    },
    {
      "cell_type": "code",
      "source": [
        "train_datagen=ImageDataGenerator(preprocessing_function=preprocess_input,validation_split=0.2)\n",
        "test_datagen=ImageDataGenerator(preprocessing_function=preprocess_input)"
      ],
      "metadata": {
        "id": "PaVfkrviOF1i"
      },
      "execution_count": null,
      "outputs": []
    },
    {
      "cell_type": "code",
      "source": [
        "train_gen=train_datagen.flow_from_dataframe(\n",
        "    dataframe=train,\n",
        "    x_col='Filepath',\n",
        "    y_col='Label',\n",
        "    target_size=(227,227),\n",
        "    class_mode ='categorical',\n",
        "    batch_size=32,\n",
        "    shuffle=True,\n",
        "    seed=42\n",
        ")\n",
        "val_gen=train_datagen.flow_from_dataframe(\n",
        "    dataframe=test,\n",
        "    x_col='Filepath',\n",
        "    y_col='Label',\n",
        "    target_size=(227,227),\n",
        "    class_mode='categorical',\n",
        "    batch_size=32,\n",
        "    shuffle=False,\n",
        "    seed=42\n",
        ")\n",
        "test_gen=train_datagen.flow_from_dataframe(\n",
        "    dataframe=test,\n",
        "    x_col='Filepath',\n",
        "    y_col='Label',\n",
        "    target_size=(227,227),\n",
        "    class_mode='categorical',\n",
        "    batch_size=32,\n",
        "    shuffle=False,\n",
        ")"
      ],
      "metadata": {
        "id": "Hn8pkqgwOISG"
      },
      "execution_count": null,
      "outputs": []
    },
    {
      "cell_type": "code",
      "source": [
        "from tensorflow.keras.applications import ResNet50\n",
        "pretrained_model=ResNet50(\n",
        "    input_shape=(227,227,3),\n",
        "    include_top=False,\n",
        "    weights='imagenet',\n",
        "    pooling='avg'\n",
        ")\n",
        "pretrained_model.trainable=False"
      ],
      "metadata": {
        "id": "vImexiWDOKW5"
      },
      "execution_count": null,
      "outputs": []
    },
    {
      "cell_type": "code",
      "source": [
        "inputs=pretrained_model.input\n",
        "x=Dense(128,activation='relu')(pretrained_model.output)\n",
        "x=Dense(128,activation='relu')(x)\n",
        "outputs=Dense(3,activation='softmax')(x)\n",
        "model=Model(inputs=inputs,outputs=outputs)\n"
      ],
      "metadata": {
        "id": "zDyUeJ5AOMsW"
      },
      "execution_count": null,
      "outputs": []
    },
    {
      "cell_type": "code",
      "source": [
        "model.compile(\n",
        "    optimizer='adam',\n",
        "    loss='categorical_crossentropy',\n",
        "    metrics=['accuracy']\n",
        ")"
      ],
      "metadata": {
        "id": "ejFk7I6DOP2s"
      },
      "execution_count": null,
      "outputs": []
    },
    {
      "cell_type": "code",
      "source": [
        "my_callbacks=[EarlyStopping(monitor='val_accuracy',\n",
        "                            min_delta=0,\n",
        "                            patience=3,\n",
        "                            mode='auto')]"
      ],
      "metadata": {
        "id": "1GbCEVFwOSYb"
      },
      "execution_count": null,
      "outputs": []
    },
    {
      "cell_type": "code",
      "source": [
        "history=model.fit(\n",
        "    train_gen,\n",
        "    validation_data=val_gen,\n",
        "    epochs=10,\n",
        "    callbacks=my_callbacks\n",
        ")"
      ],
      "metadata": {
        "id": "5KL5Ls4kOUND"
      },
      "execution_count": null,
      "outputs": []
    },
    {
      "cell_type": "code",
      "source": [
        "model.save('ResNet50.h5')"
      ],
      "metadata": {
        "id": "LFc5_QKaOXQq"
      },
      "execution_count": null,
      "outputs": []
    },
    {
      "cell_type": "code",
      "source": [
        "plt.figure(figsize=(5,3))\n",
        "pd.DataFrame(history.history)[['accuracy','val_accuracy']].plot()\n",
        "plt.title('Accuracy')\n",
        "plt.show()\n",
        "print()\n",
        "plt.figure(figsize=(7,3))\n",
        "pd.DataFrame(history.history)[['loss','val_loss']].plot()\n",
        "plt.title('Loss')\n",
        "plt.show()"
      ],
      "metadata": {
        "id": "bASEkOX-OZOs"
      },
      "execution_count": null,
      "outputs": []
    },
    {
      "cell_type": "code",
      "source": [
        "results=model.evaluate(test_gen,verbose=0)\n",
        "\n",
        "print('Test Loss: {:.5f}'.format(results[0]))\n",
        "print('Test Accuracy: {:.2f}'.format(results[1]*100))"
      ],
      "metadata": {
        "id": "Tgvhx86UOZ2y"
      },
      "execution_count": null,
      "outputs": []
    },
    {
      "cell_type": "code",
      "source": [
        "pred=model.predict(test_gen)\n",
        "pred=np.argmax(pred,axis=1)\n",
        "\n",
        "labels=(train_gen.class_indices)\n",
        "labels=dict((v,k) for k,v in labels.items())\n",
        "pred=[labels[k] for k in pred]\n",
        "print(pred)\n",
        "print(len(pred))"
      ],
      "metadata": {
        "id": "Kx3wLoG5OcjM"
      },
      "execution_count": null,
      "outputs": []
    },
    {
      "cell_type": "code",
      "source": [
        "pred_label=[]\n",
        "pred_label.extend(list(test.get('Label')))\n",
        "print(pred_label)\n",
        "for i in range(len(pred_label)):\n",
        "  if(pred_label[i]=='PNEUMONIA'):\n",
        "    pred_label[i]=1\n",
        "  elif(pred_label[i]=='NORMAL'):\n",
        "    pred_label[i]=0\n",
        "  else:\n",
        "    pred_label[i]=2\n",
        "print(pred_label)"
      ],
      "metadata": {
        "id": "WsI80kdTOeNL"
      },
      "execution_count": null,
      "outputs": []
    },
    {
      "cell_type": "code",
      "source": [
        "pred_labels=[]\n",
        "pred_labels.extend(pred)\n",
        "print(pred_labels)\n",
        "for i in range(len(pred_labels)):\n",
        "  if(pred_labels[i]=='PNEUMONIA'):\n",
        "    pred_labels[i]=1\n",
        "  else:\n",
        "    pred_labels[i]=0\n",
        "print(pred_labels)\n",
        "print(len(pred_labels))"
      ],
      "metadata": {
        "id": "BbDeQVbxOgPp"
      },
      "execution_count": null,
      "outputs": []
    },
    {
      "cell_type": "code",
      "source": [
        "y_test=list(test.Label)\n",
        "print(classification_report(y_test,pred))"
      ],
      "metadata": {
        "id": "u8spvEC1OiWk"
      },
      "execution_count": null,
      "outputs": []
    },
    {
      "cell_type": "code",
      "source": [
        "class estimator:\n",
        "    _estimator_type = ''\n",
        "    classes_=['NORMAL','PNEUMONIA','TUBERCULOSIS']\n",
        "    def __init__(self, model):\n",
        "        self.model = model\n",
        "        self._estimator_type = 'classifier'\n",
        "        #self.classes_ = classes\n",
        "    def predict(self, X):\n",
        "        y_prob= self.model.predict(X)\n",
        "        return np.argmax(y_prob, axis=1)\n",
        "\n",
        "classifier = estimator(model)"
      ],
      "metadata": {
        "id": "SbaqBlkiOkcH"
      },
      "execution_count": null,
      "outputs": []
    },
    {
      "cell_type": "code",
      "source": [
        "fig,axes=plt.subplots(nrows=5,ncols=2,figsize=(12,8),\n",
        "                      subplot_kw={'xticks':[],'yticks':[]})\n",
        "for i ,ax in enumerate(axes.flat):\n",
        "  ax.imshow(plt.imread(test.Filepath.iloc[i]))\n",
        "  ax.set_title(f\"True:{test.Label.iloc[i]}\\nPredicted:{pred[i]}\")\n",
        "plt.tight_layout()\n",
        "plt.show()"
      ],
      "metadata": {
        "id": "rlQiVDH-Omf6"
      },
      "execution_count": null,
      "outputs": []
    },
    {
      "cell_type": "code",
      "source": [
        "from tensorflow.keras.preprocessing import image\n",
        "from tensorflow.keras.applications.imagenet_utils import decode_predictions\n",
        "from tensorflow.keras.applications.imagenet_utils import preprocess_input\n",
        "\n",
        "img_path='/content/drive/MyDrive/datasetZ/PNEUMONIA/PNEUMONIA/person1000_virus_1681.jpeg'\n",
        "img=cv2.imread(img_path)\n",
        "img=cv2.resize(img,(227,227))\n",
        "plt.imshow(img)\n",
        "print(img.shape)\n",
        "\n",
        "x=np.expand_dims(img,axis=0)\n",
        "x=preprocess_input(x)\n",
        "result=model.predict(x)\n",
        "print((result*100).astype('int'))"
      ],
      "metadata": {
        "id": "s1eEylr_Ooke"
      },
      "execution_count": null,
      "outputs": []
    },
    {
      "cell_type": "code",
      "source": [
        "l=((result*100).astype('int')).tolist()\n",
        "i=l[0].index(max(l[0]))\n",
        "if(i==0):\n",
        "  print('NORMAL')\n",
        "elif(i==1):\n",
        "  print('PNEUMONIA')\n",
        "else:\n",
        "  print('TUBERCULOSIS')"
      ],
      "metadata": {
        "id": "aAXTNIcROqaJ"
      },
      "execution_count": null,
      "outputs": []
    }
  ]
}